{
 "cells": [
  {
   "cell_type": "code",
   "execution_count": null,
   "metadata": {},
   "outputs": [],
   "source": [
    "import pandas as pd\n",
    "import xlrd\n",
    "import numpy as np\n",
    "\n",
    "#imports required modules for data analysis"
   ]
  },
  {
   "cell_type": "code",
   "execution_count": null,
   "metadata": {},
   "outputs": [],
   "source": [
    "PFI = pd.read_excel('/Users/Jacob/Downloads/42003_2023_5459_MOESM14_ESM.xlsx', sheet_name='Fig. 2b-f')\n",
    "#reads in dataset containing PFI status and PFI time\n",
    "clinical = pd.read_csv(\"/Users/Jacob/Downloads/clinical.cohort.2024-03-06/clinical.tsv\", delimiter= \"\\t\")\n",
    "#reads in clinical data including age\n",
    "df = pd.read_csv('/Users/Jacob/Downloads/EB++AdjustPANCAN_IlluminaHiSeq_RNASeqV2.geneExp.xena', delimiter=\"\\t\")\n",
    "#reads in datafile of log normalized epigenetic expression values\n"
   ]
  },
  {
   "cell_type": "code",
   "execution_count": null,
   "metadata": {},
   "outputs": [],
   "source": [
    "def sample_name_adjust(df):\n",
    "    \"\"\"Input: dataframe of epigenetic data. A function to adjust the names of each sample in the dataset. \n",
    "    Output: dataframe of epigenetic data with adjusted column names. \n",
    "    These adjusted names are used as column headers. \n",
    "    Adjusted names use first 12 characters of original name. \n",
    "    This removes the numerical tag at then end of the name, matching titles to corresponding ones later \n",
    "    found in metadata file, allowing for successful merge.\"\"\"\n",
    "    new_cols = []\n",
    "    for item in df.columns:\n",
    "        new_cols.append(item[:12])\n",
    "    #loops through list of old names, adding truncated versions to new_cols list\n",
    "    df.columns = new_cols\n",
    "    df = df.loc[:,~df.columns.duplicated()].copy()\n",
    "    #removes duplicate samples created by removal of differentiating tags\n",
    "    df.index = df[\"sample\"]\n",
    "    #sets index to names of genes examined\n",
    "    return df\n",
    "\n",
    "df = sample_name_adjust(df)"
   ]
  },
  {
   "cell_type": "code",
   "execution_count": null,
   "metadata": {},
   "outputs": [],
   "source": [
    "clinical.index = clinical[\"case_submitter_id\"]\n",
    "clinical = clinical.drop_duplicates(subset= \"case_submitter_id\")\n",
    "#creates index for clinical dataframe using patient IDs, then drops duplicate patient data\n",
    "\n",
    "age = clinical[\"days_to_birth\"]\n",
    "#initializes list of ages using days to birth clinical data\n",
    "\n",
    "PFI.index = PFI[\"patient_id\"]\n",
    "#creates index for PFI dataframe using patient IDs"
   ]
  },
  {
   "cell_type": "code",
   "execution_count": null,
   "metadata": {},
   "outputs": [],
   "source": [
    "def prep_FINAL(PFI, age):\n",
    "    \"\"\"\n",
    "    Input: dataframe of PFIs, series of ages formatted in days from birth (negative values)\n",
    "    Output: dataframe of PFIs with additional column for age, titled and formatted in days to birth\n",
    "    \"\"\"\n",
    "    FINAL = pd.concat([PFI, age], axis = 1)\n",
    "    #creates matrix \"FINAL\" including PFI and AGE\n",
    "    FINAL = FINAL.dropna(subset=\"cancer_type\")\n",
    "    #drops samples without values in cancertype\n",
    "    FINAL = FINAL.replace({'\\'--': np.nan})\n",
    "    #replaces non-standard nan value with nan\n",
    "    FINAL = FINAL.dropna(subset=\"days_to_birth\")\n",
    "    #drops samples without valid days_to_birth value\n",
    "\n",
    "    days_from_birth = []\n",
    "    for item in FINAL.index:\n",
    "        days_from_birth.append(int(FINAL.loc[item][\"days_to_birth\"][1:]))\n",
    "    D = {\"days_from_birth\": days_from_birth}\n",
    "    days_from_birth = pd.DataFrame(D)\n",
    "    days_from_birth.index = FINAL.index\n",
    "    #makes dataframe days_from_birth with non-negative values of days_to_birth, using index of FINAL\n",
    "\n",
    "    FINAL = pd.concat([FINAL, days_from_birth], axis=1)\n",
    "    FINAL = FINAL.drop(\"days_to_birth\", axis = 1)\n",
    "    #adds days from birth and drops days to birth from final\n",
    "\n",
    "    return FINAL\n",
    "\n",
    "FINAL = prep_FINAL(PFI, age)"
   ]
  },
  {
   "cell_type": "code",
   "execution_count": null,
   "metadata": {},
   "outputs": [],
   "source": [
    "\n",
    "def division(list, data):\n",
    "    \"\"\"\n",
    "    Input: list = list of cutoffs (percentiles in decimal form) relative to age distribution \n",
    "    which are used to divide each sample into older/younger category. \n",
    "    data = dataframe containing samples to divide into older/younger\n",
    "    returns: original dataframe, with new columns containing older/younger labels for each cutoff supplied in list\n",
    "    \"\"\"\n",
    "    for percentile in list:\n",
    "        cutoff = FINAL[\"days_from_birth\"].quantile(percentile)\n",
    "        #calculates the percentile cutoff in temrs of days\n",
    "        Young_Old = []\n",
    "\n",
    "        for item in FINAL.index:\n",
    "            if FINAL.loc[item][\"days_from_birth\"] > cutoff:\n",
    "                Young_Old.append(\"Older\")\n",
    "            else:\n",
    "                Young_Old.append(\"Younger\")\n",
    "        #for each sample in teh data, if a sample is older than the cutoff, appends older to that position in the list. \n",
    "        #if the sample is younger than the cutoff, appends younger to analagous positition in list\n",
    "\n",
    "        Young_Old_DF = pd.DataFrame({\"Age\"+ str(percentile)[2:] : Young_Old} )\n",
    "        Young_Old_DF.index = FINAL.index\n",
    "        #turns the list of older/younger into one column dataframe, with index of FINAL and column title of Age + cutoff percentile \n",
    "\n",
    "        data = pd.concat([data, Young_Old_DF], axis=1)\n",
    "        #updates df \"data\" to include the new column\n",
    "    return data\n",
    "\n",
    "\n",
    "cutoffs = [0.25, 0.50, 0.75]\n",
    "FINAL = division(cutoffs, FINAL)\n",
    "#runs division on \"FINAL\" data"
   ]
  },
  {
   "cell_type": "code",
   "execution_count": null,
   "metadata": {},
   "outputs": [],
   "source": [
    "FINAL"
   ]
  },
  {
   "cell_type": "code",
   "execution_count": null,
   "metadata": {},
   "outputs": [],
   "source": [
    "FINAL.to_csv(\"/Users/Jacob/Desktop/OldYoung.csv\")"
   ]
  },
  {
   "cell_type": "code",
   "execution_count": null,
   "metadata": {},
   "outputs": [],
   "source": []
  }
 ],
 "metadata": {
  "kernelspec": {
   "display_name": "base",
   "language": "python",
   "name": "python3"
  },
  "language_info": {
   "codemirror_mode": {
    "name": "ipython",
    "version": 3
   },
   "file_extension": ".py",
   "mimetype": "text/x-python",
   "name": "python",
   "nbconvert_exporter": "python",
   "pygments_lexer": "ipython3",
   "version": "3.9.12"
  }
 },
 "nbformat": 4,
 "nbformat_minor": 2
}
